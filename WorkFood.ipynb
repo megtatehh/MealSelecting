{
 "cells": [
  {
   "cell_type": "code",
   "execution_count": 120,
   "metadata": {},
   "outputs": [],
   "source": [
    "import pandas as pd\n",
    "import numpy as np\n",
    "from sklearn.utils import shuffle\n",
    "import ipywidgets as widgets\n",
    "from IPython.display import display"
   ]
  },
  {
   "cell_type": "code",
   "execution_count": 121,
   "metadata": {},
   "outputs": [
    {
     "name": "stdout",
     "output_type": "stream",
     "text": [
      "Meg's food budget\n"
     ]
    },
    {
     "data": {
      "application/vnd.jupyter.widget-view+json": {
       "model_id": "436d351b4dcb429ba2a0f12cb81e4027",
       "version_major": 2,
       "version_minor": 0
      },
      "text/plain": [
       "HBox(children=(BoundedIntText(value=140, description='P:', max=140, min=100), BoundedIntText(value=175, descri…"
      ]
     },
     "metadata": {},
     "output_type": "display_data"
    },
    {
     "name": "stdout",
     "output_type": "stream",
     "text": [
      "\n",
      "Restaurant Selection\n"
     ]
    },
    {
     "data": {
      "application/vnd.jupyter.widget-view+json": {
       "model_id": "e90cea820c594e27996407f80a77b23f",
       "version_major": 2,
       "version_minor": 0
      },
      "text/plain": [
       "SelectMultiple(description='Restaurants:', options=('Atcha', 'Atis', 'Carbon', 'Coco Di Mama', 'Eat Activ', 'K…"
      ]
     },
     "metadata": {},
     "output_type": "display_data"
    },
    {
     "name": "stdout",
     "output_type": "stream",
     "text": [
      "\n",
      "Acceptable remainders\n"
     ]
    },
    {
     "data": {
      "application/vnd.jupyter.widget-view+json": {
       "model_id": "3c68c6331c244a2291e3feca140ab163",
       "version_major": 2,
       "version_minor": 0
      },
      "text/plain": [
       "HBox(children=(IntSlider(value=5, description='GR money:', max=15), IntSlider(value=18, description='Protein:'…"
      ]
     },
     "metadata": {},
     "output_type": "display_data"
    }
   ],
   "source": [
    "meg_protein_allowance=widgets.BoundedIntText(\n",
    "    value=140,\n",
    "    min=100,\n",
    "    max=140,\n",
    "    step=1,\n",
    "    description='P:',\n",
    "    disabled=False\n",
    ")\n",
    "\n",
    "meg_carbs_allowance=widgets.BoundedIntText(\n",
    "    value=175,\n",
    "    min=140,\n",
    "    max=225,\n",
    "    step=1,\n",
    "    description='C:',\n",
    "    disabled=False\n",
    ")\n",
    "\n",
    "meg_fat_allowance=widgets.BoundedIntText(\n",
    "    value=60,\n",
    "    min=50,\n",
    "    max=75,\n",
    "    step=1,\n",
    "    description='Fa:',\n",
    "    disabled=False\n",
    ")\n",
    "\n",
    "meg_fibre_allowance=widgets.BoundedIntText(\n",
    "    value=25,\n",
    "    min=25,\n",
    "    max=25,\n",
    "    step=1,\n",
    "    description='Fi:',\n",
    "    disabled=False\n",
    ")\n",
    "\n",
    "restaurant_selection=widgets.SelectMultiple(\n",
    "    options=sorted(['Coco Di Mama', 'K10', 'Olive & Squash', 'Kitchn','Atis','Atcha','Wok to Walk', 'Eat Activ', 'Urban Greens', 'Carbon']),\n",
    "    rows=10,\n",
    "    description='Restaurants:',\n",
    "    disabled=False\n",
    ")\n",
    "\n",
    "protein_slider=widgets.IntSlider(\n",
    "    min=0,\n",
    "    max=50,\n",
    "    step=1,\n",
    "    description='Protein:',\n",
    "    value=18\n",
    ")\n",
    "\n",
    "money_slider=widgets.IntSlider(\n",
    "    min=0,\n",
    "    max=15,\n",
    "    step=1,\n",
    "    description='GR money:',\n",
    "    value=5\n",
    ")\n",
    "print(\"Meg's food budget\")\n",
    "input_widgets_budget = widgets.HBox(\n",
    "[meg_protein_allowance,meg_carbs_allowance,meg_fat_allowance,meg_fibre_allowance])\n",
    "display(input_widgets_budget)\n",
    "print('')\n",
    "print('Restaurant Selection')\n",
    "display(restaurant_selection)\n",
    "print('')\n",
    "print('Acceptable remainders')\n",
    "input_widgets_remainder = widgets.HBox(\n",
    "[money_slider, protein_slider])\n",
    "display(input_widgets_remainder)"
   ]
  },
  {
   "cell_type": "code",
   "execution_count": 126,
   "metadata": {},
   "outputs": [
    {
     "data": {
      "text/plain": [
       "['Coco Di Mama']"
      ]
     },
     "execution_count": 126,
     "metadata": {},
     "output_type": "execute_result"
    }
   ],
   "source": [
    "food_data_raw=pd.read_csv(r\"C:\\Users\\megzh\\OneDrive\\Documents\\Work Food.csv\")\n",
    "restaurants_available_today=restaurants_available_today=list(restaurant_selection.value)\n",
    "food_always_available=['Optimum Nutrition', 'Arla', 'Meg', 'Kathy', 'G-Research']\n",
    "food_available_today=restaurants_available_today+food_always_available\n",
    "food_data_raw=food_data_raw[food_data_raw['Restaurant'].isin(food_available_today)]\n",
    "#food_data_raw\n",
    "restaurants_available_today"
   ]
  },
  {
   "cell_type": "code",
   "execution_count": 127,
   "metadata": {},
   "outputs": [],
   "source": [
    "budget=15\n",
    "meg_food_allowance=np.array([meg_protein_allowance.value,meg_carbs_allowance.value,meg_fat_allowance.value,meg_fibre_allowance.value])\n"
   ]
  },
  {
   "cell_type": "code",
   "execution_count": 128,
   "metadata": {},
   "outputs": [],
   "source": [
    "\n",
    "remainder_of_food_budget=meg_food_allowance"
   ]
  },
  {
   "cell_type": "code",
   "execution_count": 129,
   "metadata": {},
   "outputs": [
    {
     "name": "stdout",
     "output_type": "stream",
     "text": [
      "['Coco Di Mama - Midi Chicken Pesto, £6.1', 'Coco Di Mama - Midi Low and Slow Beef, £6.4', 'Arla - Yogurt, £0.0', 'Optimum Nutrition - Protien Shake, £0.0', 'Kathy - Hot chocolate, £0.0']\n",
      " \n",
      "Money left: £2.5\n",
      "Protein left:32.0\n",
      "Carbs left:3.3999999999999986\n",
      "Fat left:7.6\n",
      "Fibre left:15.5\n",
      "\n",
      "\n",
      "['Optimum Nutrition - Protien Shake, £0.0', 'Coco Di Mama - Midi Chicken Pesto, £6.1', 'Coco Di Mama - Mini Biscoff Bombo, £1.0', 'Arla - Yogurt, £0.0', 'Coco Di Mama - Midi Low and Slow Beef, £6.4', 'Coco Di Mama - Mini Biscoff Bombo, £1.0']\n",
      " \n",
      "Money left: £0.5\n",
      "Protein left:37.599999999999994\n",
      "Carbs left:8.800000000000008\n",
      "Fat left:1.0000000000000009\n",
      "Fibre left:16.0\n",
      "\n",
      "\n",
      "['Coco Di Mama - Midi Chicken Pesto, £6.1', 'Coco Di Mama - Midi Low and Slow Beef, £6.4', 'G-Research - Fruit Pot, £0.0', 'Arla - Yogurt, £0.0', 'Coco Di Mama - Mini Biscoff Bombo, £1.0', 'Optimum Nutrition - Protien Shake, £0.0']\n",
      " \n",
      "Money left: £1.5\n",
      "Protein left:38.8\n",
      "Carbs left:6.599999999999998\n",
      "Fat left:7.300000000000001\n",
      "Fibre left:14.0\n",
      "\n",
      "\n",
      "['Optimum Nutrition - Protien Shake, £0.0', 'Coco Di Mama - Midi Low and Slow Beef, £6.4', 'Arla - Yogurt, £0.0', 'Kathy - Hot chocolate, £0.0', 'Coco Di Mama - Midi Chicken Pesto, £6.1']\n",
      " \n",
      "Money left: £2.5\n",
      "Protein left:32.0\n",
      "Carbs left:3.4000000000000057\n",
      "Fat left:7.600000000000001\n",
      "Fibre left:15.5\n",
      "\n",
      "\n",
      "['Optimum Nutrition - Protien Shake, £0.0', 'Coco Di Mama - Midi Chicken Pesto, £6.1', 'Coco Di Mama - Mini Biscoff Bombo, £1.0', 'Coco Di Mama - Midi Low and Slow Beef, £6.4', 'Arla - Yogurt, £0.0', 'Coco Di Mama - Mini Biscoff Bombo, £1.0']\n",
      " \n",
      "Money left: £0.5\n",
      "Protein left:37.599999999999994\n",
      "Carbs left:8.8\n",
      "Fat left:0.9999999999999991\n",
      "Fibre left:16.0\n",
      "\n",
      "\n"
     ]
    }
   ],
   "source": [
    "counter=0\n",
    "while counter <5:\n",
    "    food_data = shuffle(food_data_raw)\n",
    "    protein_left=remainder_of_food_budget[0]\n",
    "    carbs_left=remainder_of_food_budget[1]\n",
    "    fat_left=remainder_of_food_budget[2]\n",
    "    fibre_left=remainder_of_food_budget[3]\n",
    "    money_left=budget\n",
    "    meal=[]\n",
    "    for x in food_data.iterrows():\n",
    "        protein_in_meal=x[1]['Protein']\n",
    "        carbs_in_meal=x[1]['Carbs']\n",
    "        fat_in_meal=x[1]['Fat']\n",
    "        fibre_in_meal=x[1]['Fibre']\n",
    "        money_in_meal=x[1]['Price']\n",
    "        if protein_left>=protein_in_meal and carbs_left>= carbs_in_meal and fat_left>= fat_in_meal and money_left>= money_in_meal:\n",
    "            protein_left=protein_left-protein_in_meal\n",
    "            carbs_left=carbs_left-carbs_in_meal\n",
    "            fat_left=fat_left-fat_in_meal\n",
    "            fibre_left=fibre_left-fibre_in_meal\n",
    "            money_left=money_left-money_in_meal\n",
    "            element=(x[1]['Restaurant']+' - '+x[1]['Dish name']+', £'+str(x[1]['Price']))\n",
    "            meal.append(element)\n",
    "        if protein_left>0 and carbs_left>0:\n",
    "            continue\n",
    "        else: break\n",
    "    if protein_left<protein_slider.value and money_left<money_slider.value: # and element not in set to remove duplicates\n",
    "        print(meal)\n",
    "        print(' ')\n",
    "        print('Money left: £' +str(money_left))  \n",
    "        print('Protein left:' +str(protein_left))\n",
    "        print('Carbs left:' +str(carbs_left))\n",
    "        print('Fat left:' +str(fat_left))\n",
    "        print('Fibre left:' +str(fibre_left))\n",
    "        print( )\n",
    "        print()\n",
    "        counter=counter+1\n"
   ]
  },
  {
   "cell_type": "code",
   "execution_count": null,
   "metadata": {},
   "outputs": [],
   "source": [
    "#additional funtcionality to add in\n",
    "\n",
    "'''\n",
    "being able to eat half of something\n",
    "'''"
   ]
  },
  {
   "cell_type": "code",
   "execution_count": 25,
   "metadata": {},
   "outputs": [],
   "source": []
  },
  {
   "cell_type": "code",
   "execution_count": 84,
   "metadata": {},
   "outputs": [],
   "source": []
  },
  {
   "cell_type": "code",
   "execution_count": 30,
   "metadata": {
    "scrolled": true
   },
   "outputs": [
    {
     "name": "stdout",
     "output_type": "stream",
     "text": [
      "['Accordion', 'AppLayout', 'Audio', 'BoundedFloatText', 'BoundedIntText', 'Box', 'Button', 'ButtonStyle', 'CallbackDispatcher', 'Checkbox', 'Color', 'ColorPicker', 'Combobox', 'Controller', 'CoreWidget', 'DOMWidget', 'DatePicker', 'Datetime', 'Dropdown', 'FileUpload', 'FloatLogSlider', 'FloatProgress', 'FloatRangeSlider', 'FloatSlider', 'FloatText', 'GridBox', 'GridspecLayout', 'HBox', 'HTML', 'HTMLMath', 'Image', 'IntProgress', 'IntRangeSlider', 'IntSlider', 'IntText', 'Label', 'Layout', 'NumberFormat', 'Output', 'Password', 'Play', 'RadioButtons', 'Select', 'SelectMultiple', 'SelectionRangeSlider', 'SelectionSlider', 'SliderStyle', 'Style', 'Tab', 'Text', 'Textarea', 'ToggleButton', 'ToggleButtons', 'ToggleButtonsStyle', 'TwoByTwoLayout', 'VBox', 'Valid', 'ValueWidget', 'Video', 'Widget', '__builtins__', '__cached__', '__doc__', '__file__', '__jupyter_widgets_base_version__', '__jupyter_widgets_controls_version__', '__loader__', '__name__', '__package__', '__path__', '__protocol_version__', '__spec__', '__version__', '_handle_ipython', '_version', 'dlink', 'docutils', 'domwidget', 'fixed', 'get_ipython', 'handle_kernel', 'interact', 'interact_manual', 'interaction', 'interactive', 'interactive_output', 'jsdlink', 'jslink', 'link', 'load_ipython_extension', 'os', 'register', 'register_comm_target', 'trait_types', 'util', 'valuewidget', 'version_info', 'widget', 'widget_bool', 'widget_box', 'widget_button', 'widget_color', 'widget_controller', 'widget_core', 'widget_date', 'widget_description', 'widget_float', 'widget_int', 'widget_layout', 'widget_link', 'widget_media', 'widget_output', 'widget_selection', 'widget_selectioncontainer', 'widget_serialization', 'widget_string', 'widget_style', 'widget_templates', 'widget_upload', 'widgets']\n"
     ]
    }
   ],
   "source": [
    "print(dir(widgets))\n",
    "#https://ipywidgets.readthedocs.io/en/latest/examples/Widget%20Basics.html"
   ]
  },
  {
   "cell_type": "code",
   "execution_count": null,
   "metadata": {},
   "outputs": [],
   "source": []
  }
 ],
 "metadata": {
  "kernelspec": {
   "display_name": "Python 3",
   "language": "python",
   "name": "python3"
  },
  "language_info": {
   "codemirror_mode": {
    "name": "ipython",
    "version": 3
   },
   "file_extension": ".py",
   "mimetype": "text/x-python",
   "name": "python",
   "nbconvert_exporter": "python",
   "pygments_lexer": "ipython3",
   "version": "3.7.4"
  }
 },
 "nbformat": 4,
 "nbformat_minor": 2
}
